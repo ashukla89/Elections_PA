{
 "cells": [
  {
   "cell_type": "code",
   "execution_count": 1,
   "id": "3731a299",
   "metadata": {},
   "outputs": [
    {
     "name": "stderr",
     "output_type": "stream",
     "text": [
      "/Users/shuklaa/.pyenv/versions/3.9.7/lib/python3.9/site-packages/pandas/compat/__init__.py:124: UserWarning: Could not import the lzma module. Your installed Python is incomplete. Attempting to use lzma compression will result in a RuntimeError.\n",
      "  warnings.warn(msg)\n"
     ]
    }
   ],
   "source": [
    "import numpy as np\n",
    "import pandas as pd\n",
    "import matplotlib.pyplot as plt\n",
    "import datetime\n",
    "import seaborn as sns"
   ]
  },
  {
   "cell_type": "markdown",
   "id": "d3c90389",
   "metadata": {},
   "source": [
    "# To-do:"
   ]
  },
  {
   "cell_type": "markdown",
   "id": "7ad2cabd",
   "metadata": {},
   "source": [
    "* Import all CSVs as DFs\n",
    "* Standardize comparison to partisan vote strength and margins\n",
    "    * In multi-member elections, average the vote shares within party\n",
    "* Compare NJ turnout and margins\n",
    "    * 2021 to 2020 Pres\n",
    "    * 2021 to 2017 Gov\n",
    "* Compare PA raw partisan turnout, raw % margins, and net absolute votes\n",
    "    * 2021 3 court races races to 2020 Pres, AttyGen, AudGen, Treas races (3x4 = 12 comparisons)\n",
    "    * 2021 3 court races to 2019 Superior Court (3x1 = 3 comparisons)\n",
    "    * 2021 3 court races to 2017 3 court races (3x3 = 9 comparisons)\n",
    "    * For a total of 24 comparisons!"
   ]
  },
  {
   "cell_type": "markdown",
   "id": "5ca264d9",
   "metadata": {},
   "source": [
    "# Pennsylvania First"
   ]
  },
  {
   "cell_type": "markdown",
   "id": "27c56d21",
   "metadata": {},
   "source": [
    "### Import all data"
   ]
  },
  {
   "cell_type": "code",
   "execution_count": null,
   "id": "a78112fd",
   "metadata": {},
   "outputs": [],
   "source": [
    "supr21 = pd.read_csv('Data/data_supr')"
   ]
  }
 ],
 "metadata": {
  "kernelspec": {
   "display_name": "Python 3 (ipykernel)",
   "language": "python",
   "name": "python3"
  },
  "language_info": {
   "codemirror_mode": {
    "name": "ipython",
    "version": 3
   },
   "file_extension": ".py",
   "mimetype": "text/x-python",
   "name": "python",
   "nbconvert_exporter": "python",
   "pygments_lexer": "ipython3",
   "version": "3.9.7"
  }
 },
 "nbformat": 4,
 "nbformat_minor": 5
}
